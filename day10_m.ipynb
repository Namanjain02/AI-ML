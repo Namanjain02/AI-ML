{
 "cells": [
  {
   "cell_type": "code",
   "execution_count": 1,
   "metadata": {},
   "outputs": [],
   "source": [
    "import cv2\n",
    "import skimage as ski\n",
    "import matplotlib.pyplot as plit"
   ]
  },
  {
   "cell_type": "code",
   "execution_count": 6,
   "metadata": {},
   "outputs": [],
   "source": [
    "img = cv2.imread('test.png')\n",
    "cv2.imshow(' ',img)\n",
    "cv2.waitKey(0)\n",
    "cv2.destroyAllWindows()"
   ]
  },
  {
   "cell_type": "code",
   "execution_count": 7,
   "metadata": {},
   "outputs": [
    {
     "data": {
      "text/plain": [
       "numpy.ndarray"
      ]
     },
     "execution_count": 7,
     "metadata": {},
     "output_type": "execute_result"
    }
   ],
   "source": [
    "type(img)"
   ]
  },
  {
   "cell_type": "code",
   "execution_count": 8,
   "metadata": {},
   "outputs": [
    {
     "data": {
      "text/plain": [
       "array([[[255, 255, 255],\n",
       "        [255, 255, 255],\n",
       "        [255, 255, 255],\n",
       "        ...,\n",
       "        [255, 255, 255],\n",
       "        [255, 255, 255],\n",
       "        [255, 255, 255]],\n",
       "\n",
       "       [[255, 255, 255],\n",
       "        [255, 255, 255],\n",
       "        [255, 255, 255],\n",
       "        ...,\n",
       "        [255, 255, 255],\n",
       "        [255, 255, 255],\n",
       "        [255, 255, 255]],\n",
       "\n",
       "       [[255, 255, 255],\n",
       "        [255, 255, 255],\n",
       "        [255, 255, 255],\n",
       "        ...,\n",
       "        [255, 255, 255],\n",
       "        [255, 255, 255],\n",
       "        [255, 255, 255]],\n",
       "\n",
       "       ...,\n",
       "\n",
       "       [[ 24,  21,  20],\n",
       "        [ 24,  21,  20],\n",
       "        [ 24,  21,  20],\n",
       "        ...,\n",
       "        [ 24,  21,  20],\n",
       "        [ 24,  21,  20],\n",
       "        [ 24,  21,  20]],\n",
       "\n",
       "       [[ 24,  21,  20],\n",
       "        [ 24,  21,  20],\n",
       "        [ 24,  21,  20],\n",
       "        ...,\n",
       "        [ 24,  21,  20],\n",
       "        [ 24,  21,  20],\n",
       "        [ 24,  21,  20]],\n",
       "\n",
       "       [[ 24,  21,  20],\n",
       "        [ 24,  21,  20],\n",
       "        [ 24,  21,  20],\n",
       "        ...,\n",
       "        [ 24,  21,  20],\n",
       "        [ 24,  21,  20],\n",
       "        [ 24,  21,  20]]], dtype=uint8)"
      ]
     },
     "execution_count": 8,
     "metadata": {},
     "output_type": "execute_result"
    }
   ],
   "source": [
    "img"
   ]
  },
  {
   "cell_type": "code",
   "execution_count": null,
   "metadata": {},
   "outputs": [],
   "source": []
  }
 ],
 "metadata": {
  "kernelspec": {
   "display_name": "Python 3.10.5 64-bit",
   "language": "python",
   "name": "python3"
  },
  "language_info": {
   "codemirror_mode": {
    "name": "ipython",
    "version": 3
   },
   "file_extension": ".py",
   "mimetype": "text/x-python",
   "name": "python",
   "nbconvert_exporter": "python",
   "pygments_lexer": "ipython3",
   "version": "3.10.5"
  },
  "orig_nbformat": 4,
  "vscode": {
   "interpreter": {
    "hash": "d751d0f1e09f4c1c89108cd8ca17b8d6b2fbc92b17fdc28381b858678eee3b2a"
   }
  }
 },
 "nbformat": 4,
 "nbformat_minor": 2
}
